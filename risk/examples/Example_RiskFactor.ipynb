{
 "cells": [
  {
   "cell_type": "markdown",
   "id": "e6e9128a",
   "metadata": {},
   "source": [
    "# Underlying and RiskFactor"
   ]
  },
  {
   "cell_type": "markdown",
   "id": "2cac3c86",
   "metadata": {},
   "source": [
    "Required Packages"
   ]
  },
  {
   "cell_type": "code",
   "execution_count": 1,
   "id": "11881e4e",
   "metadata": {},
   "outputs": [],
   "source": [
    "import sys, os\n",
    "import pandas as pd\n",
    "pypricing_directory = os.path.expanduser('~/ArfimaTools/pypricing')\n",
    "sys.path.insert(1,pypricing_directory)\n",
    "from data.underlyings import Underlying\n",
    "from risk.risk_factors import *"
   ]
  },
  {
   "cell_type": "markdown",
   "id": "7add4715",
   "metadata": {},
   "source": [
    "Obtaining sample data. We use natural gas data from the Iberian market."
   ]
  },
  {
   "cell_type": "code",
   "execution_count": 2,
   "id": "11a2432c",
   "metadata": {},
   "outputs": [],
   "source": [
    "data = pd.read_excel('example_data.xlsx', index_col=0)"
   ]
  },
  {
   "cell_type": "markdown",
   "id": "3c2e080e",
   "metadata": {},
   "source": [
    "# 1. Underlying Class"
   ]
  },
  {
   "cell_type": "markdown",
   "id": "0ffd2776",
   "metadata": {},
   "source": [
    "The Underlying class creates a base object that holds the information of an Underlying (a time series of values). It is initialized by providing a name, and then values are assigned using the set_value method. It also includes various basic methods, such as get_value, get_return, get_ewma, etc. The library can be found in pypricing\\pricing\\underlyings.py.\n"
   ]
  },
  {
   "cell_type": "markdown",
   "id": "4e670bd8",
   "metadata": {},
   "source": [
    "### 1.1. Initialize an instance"
   ]
  },
  {
   "cell_type": "code",
   "execution_count": 3,
   "id": "d8c0b444",
   "metadata": {},
   "outputs": [],
   "source": [
    "price_series = data[['Natural Gas']].rename(columns={'Natural Gas':'Price'})\n",
    "underlying_eg = Underlying('Example_prices')"
   ]
  },
  {
   "cell_type": "markdown",
   "id": "96406fab",
   "metadata": {},
   "source": [
    "The values are defined using the method \n",
    "\n",
    "_.set_data(self, data)_"
   ]
  },
  {
   "cell_type": "code",
   "execution_count": 4,
   "id": "ea0f07c1",
   "metadata": {
    "scrolled": true
   },
   "outputs": [],
   "source": [
    "underlying_eg.set_data(price_series)"
   ]
  },
  {
   "cell_type": "markdown",
   "id": "7325f7db",
   "metadata": {},
   "source": [
    "### 1.2. Some Methods\n",
    "The Underlying class has various utility methods, such as  \n",
    "- .get_dates(): Returns the dates.  \n",
    "- .get_value(): Returns values. Dates must be provided as a mandatory parameter.  \n",
    "- .get_returns(): Returns returns. Dates must be provided as a mandatory parameter.  \n",
    "- .get_ewma_vol: Returns a volatility calculation using an EWMA. Dates must be provided as a mandatory parameter.  \n"
   ]
  },
  {
   "cell_type": "markdown",
   "id": "4a6411d0",
   "metadata": {},
   "source": [
    "#### get_dates\n",
    "*get_dates(self)*  \n",
    ".get_dates() returns a list of all the dates in the Underlying. Useful for combining with .get_value() and .get_returns().\n"
   ]
  },
  {
   "cell_type": "code",
   "execution_count": null,
   "id": "ea309a09",
   "metadata": {},
   "outputs": [],
   "source": [
    "underlying_eg.get_dates()"
   ]
  },
  {
   "cell_type": "markdown",
   "id": "1232513b",
   "metadata": {},
   "source": [
    "#### get_value\n",
    "*get_value(self, dates)*  \n",
    ".get_value() simply returns the values. The only required parameter is a list of dates.\n"
   ]
  },
  {
   "cell_type": "code",
   "execution_count": null,
   "id": "b35da2b0",
   "metadata": {
    "scrolled": true
   },
   "outputs": [],
   "source": [
    "underlying_eg.get_value(['2017-02-03', '2018-02-04'])"
   ]
  },
  {
   "cell_type": "code",
   "execution_count": null,
   "id": "d8434f50",
   "metadata": {},
   "outputs": [],
   "source": [
    "underlying_eg.get_value(underlying_eg.get_dates()).plot()"
   ]
  },
  {
   "cell_type": "markdown",
   "id": "149e074c",
   "metadata": {},
   "source": [
    "#### get_return\n",
    "*get_return(self, dates, percentage=False, annualized=False, raw=False)*  \n",
    ".get_return() returns the returns. In addition to a list of dates, it has the following boolean parameters:  \n",
    "- raw: True if we want absolute returns. False returns log returns (Default is False).  \n",
    "- percentage: True if we want the value as a percentage over 100, False for value over one. Basically multiplies by 100 (Default is False).  \n",
    "- annualized: True to get annualized returns (Default is False).  \n"
   ]
  },
  {
   "cell_type": "code",
   "execution_count": null,
   "id": "4cecb6bd",
   "metadata": {},
   "outputs": [],
   "source": [
    "underlying_eg.get_return(underlying_eg.get_dates()).plot(title='Relative returns')"
   ]
  },
  {
   "cell_type": "markdown",
   "id": "4c29e11d",
   "metadata": {},
   "source": [
    "#### get_ewma_vol\n",
    "*get_ewma_vol(self, dates, l=0.94, window=None, percentage=False, annualized=False)*  \n",
    "\n",
    "It has the following new parameters:  \n",
    "- l: Indicates the memory of the EWMA. Default is 0.94.  \n",
    "- window: Indicates the window used, in number of indices. For example, if the data frequency is daily, 20 means a window of twenty days. Default is None (uses the entire available window).  \n"
   ]
  },
  {
   "cell_type": "code",
   "execution_count": null,
   "id": "303204cd",
   "metadata": {},
   "outputs": [],
   "source": [
    "underlying_eg.get_ewma_vol(underlying_eg.get_dates()).plot()"
   ]
  },
  {
   "cell_type": "markdown",
   "id": "2a4fb780",
   "metadata": {},
   "source": [
    "# 2. Riskfactor Class\n",
    "The Riskfactor class is an extension of the Underlying objects, to which a method of calculating volatility is associated. Although the Riskfactor class has several common methods, we will always work with its subclasses, which associate a volatility method with the Underlying. These are always initialized by providing an Underlying object and performing a .fit(). Among others, we have the following subclasses:\n",
    "\n",
    "- class PlainEWMARiskFactor(RiskFactor): Uses volatility based on an EWMA.  \n",
    "- class EWMARiskFactor(PlainEWMARiskFactor): Uses volatility based on an EWMA, applying an ARIMA beforehand.  \n",
    "- class GARCHRiskFactor(RiskFactor): Uses volatility based on a GARCH.  \n",
    "\n",
    "The library can be found in \\pypricing\\risk\\risk_factors.py\n"
   ]
  },
  {
   "cell_type": "markdown",
   "id": "79a2ce74",
   "metadata": {},
   "source": [
    "### 2.1 Common Methods of Riskfactor\n",
    "The Riskfactor class has several common methods that can be used across all subclasses. Among them:\n",
    "\n",
    "- **get_dates(self)**  \n",
    "  Returns the dates of the Underlying.  \n",
    "\n",
    "- **get_return(self, dates=None)**  \n",
    "  Returns the return of the Underlying.  \n",
    "\n",
    "- **get_vol(self, dates=None, annualized=False, percentage=False)**  \n",
    "  Returns the volatility.  \n",
    "\n",
    "- **get_white_noise_quantile(self, dates, quantile, window=None)**  \n",
    "  Returns the specified quantile of the white noise (return/vol).  \n"
   ]
  },
  {
   "cell_type": "markdown",
   "id": "247ee4cb",
   "metadata": {},
   "source": [
    "### 2.2 PlainEWMARiskFactor Subclass\n",
    "It is initialized with  \n",
    "\n",
    "*def __init__(self, underlying, memory=0.94, window=250, raw=False, tenor=None):*  \n"
   ]
  },
  {
   "cell_type": "code",
   "execution_count": 10,
   "id": "d61693e2",
   "metadata": {},
   "outputs": [],
   "source": [
    "plain_ewma_eg = PlainEWMARiskFactor(underlying_eg)"
   ]
  },
  {
   "cell_type": "markdown",
   "id": "2c8cc4a9",
   "metadata": {},
   "source": [
    "Then we must run a fit so that it calculates the volatility, specifying the start and end dates for which we want the information. By default, it uses all the available data.\n",
    "\n",
    "*fit(self, beginning_date=None, end_date=None)*"
   ]
  },
  {
   "cell_type": "code",
   "execution_count": 11,
   "id": "b08a0f66",
   "metadata": {},
   "outputs": [],
   "source": [
    "plain_ewma_eg.fit()"
   ]
  },
  {
   "cell_type": "markdown",
   "id": "9fbdd019",
   "metadata": {},
   "source": [
    "Para obtener datos usamos los métodos comúnes:"
   ]
  },
  {
   "cell_type": "code",
   "execution_count": null,
   "id": "7c0eedd3",
   "metadata": {},
   "outputs": [],
   "source": [
    "plain_ewma_eg.get_vol(plain_ewma_eg.get_dates()).plot()"
   ]
  },
  {
   "cell_type": "markdown",
   "id": "9eb5af9b",
   "metadata": {},
   "source": [
    "Note that it is equivalent to the get_ewma_vol method of the Underlying (both graphs are identical).\n"
   ]
  },
  {
   "cell_type": "markdown",
   "id": "69e35fe5",
   "metadata": {},
   "source": [
    "### 2.3 EWMARiskFactor Subclass\n",
    "It is initialized with  \n",
    "\n",
    "*def __init__(self, underlying, memory=0.94, window=250, raw=False):*  \n"
   ]
  },
  {
   "cell_type": "code",
   "execution_count": 13,
   "id": "0a7885b9",
   "metadata": {},
   "outputs": [],
   "source": [
    "ewma_99_eg = EWMARiskFactor(underlying_eg, memory=0.99, window=250)"
   ]
  },
  {
   "cell_type": "markdown",
   "id": "485afacf",
   "metadata": {},
   "source": [
    "Then we must run a fit so that it calculates the volatility, specifying the start and end dates for which we want the information. By default, it uses all the available data. We can also indicate if we want to see the ARIMA details.\n",
    "\n",
    "*fit(self, beginning_date=None, end_date=None, print_arima=False)*"
   ]
  },
  {
   "cell_type": "code",
   "execution_count": null,
   "id": "009abbbf",
   "metadata": {},
   "outputs": [],
   "source": [
    "ewma_99_eg.fit()"
   ]
  },
  {
   "cell_type": "code",
   "execution_count": null,
   "id": "0f109722",
   "metadata": {},
   "outputs": [],
   "source": [
    "ewma_99_eg.get_vol(ewma_99_eg.get_dates()).plot()"
   ]
  },
  {
   "cell_type": "markdown",
   "id": "7bfea4c3",
   "metadata": {},
   "source": [
    "### 2.4 GARCHRiskFactor Subclass\n",
    "It is initialized with  \n",
    "\n",
    "*def __init__(self, underlying, p=1, q=1):*  \n",
    "\n",
    "p and q specify the parameters of the GARCH.  \n"
   ]
  },
  {
   "cell_type": "code",
   "execution_count": 16,
   "id": "1ff624d1",
   "metadata": {},
   "outputs": [],
   "source": [
    "garch_eg = GARCHRiskFactor(underlying_eg)"
   ]
  },
  {
   "cell_type": "markdown",
   "id": "eb73a0fe",
   "metadata": {},
   "source": [
    "Then we must run a fit so that it calculates the volatility. We can specify whether we want to see the ARIMA details.\n",
    "\n",
    "*fit(self, use_arima=False)*"
   ]
  },
  {
   "cell_type": "code",
   "execution_count": null,
   "id": "51e7b797",
   "metadata": {},
   "outputs": [],
   "source": [
    "garch_eg.fit(use_arima=True)"
   ]
  },
  {
   "cell_type": "code",
   "execution_count": null,
   "id": "a4585bb1",
   "metadata": {},
   "outputs": [],
   "source": [
    "garch_eg.get_vol(garch_eg.get_dates()).plot()"
   ]
  },
  {
   "cell_type": "markdown",
   "id": "da751dae",
   "metadata": {},
   "source": [
    "## 3. drawdownsRiskFactor and drawdownsPortfolio\n",
    "Although the `drawdownsRiskFactor` and `drawdownsPortfolio` classes are also subclasses of `EmpiricalRiskFactor`, they differ from the previous ones and deserve a separate section. Both classes are based on using drawdowns as a conservative source for price calculation. A drawdown is defined as the worst price change detected for our position over a time window. Therefore, it is defined depending on whether the position is long or short:\n",
    "\n",
    "Long drawdowns are defined as:\n",
    "\n",
    "$$\n",
    "D_{\\text{long}, t} := \\min(p_{t+1}, \\dots, p_{t+H}) - p_t\n",
    "$$\n",
    "\n",
    "Short drawdowns are defined as:\n",
    "\n",
    "$$\n",
    "D_{\\text{short}, t} := \\max(p_{t+1}, \\dots, p_{t+H}) - p_t\n",
    "$$\n",
    "\n",
    "From here, there are two subclasses:\n",
    "- **drawdownsRiskFactor**: a risk factor that specifies a method for calculating drawdowns.\n",
    "- **drawdownsPortfolio**: manages the combination of the drawdowns from two `drawdownsRiskFactor`s.\n"
   ]
  },
  {
   "cell_type": "markdown",
   "id": "81d26899",
   "metadata": {},
   "source": [
    "### 2.4 drawdownsRiskFactor Subclass\n",
    "It is initialized with  \n",
    "\n",
    "*def __init__(self, underlying, raw=False, tenor=None):*  \n",
    "\n",
    "_raw_ specifies whether drawdowns are calculated on absolute returns (raw=True) or relative returns (raw=False).  \n",
    "_tenor_ is a string that specifies whether the contract is monthly ('M'), quarterly ('Q'), or yearly ('Y').  \n"
   ]
  },
  {
   "cell_type": "code",
   "execution_count": 19,
   "id": "88cb74b8",
   "metadata": {},
   "outputs": [],
   "source": [
    "drawdownriskfactor_eg = drawdownsRiskFactor(underlying_eg, tenor='M')"
   ]
  },
  {
   "cell_type": "code",
   "execution_count": 20,
   "id": "30d7a9c5",
   "metadata": {},
   "outputs": [],
   "source": [
    "drawdownriskfactor_eg.fit()"
   ]
  },
  {
   "cell_type": "code",
   "execution_count": null,
   "id": "3c3b8bd1",
   "metadata": {},
   "outputs": [],
   "source": [
    "drawdownriskfactor_eg.get_drawdowns(drawdownriskfactor_eg.get_dates())"
   ]
  }
 ],
 "metadata": {
  "kernelspec": {
   "display_name": "base",
   "language": "python",
   "name": "python3"
  },
  "language_info": {
   "codemirror_mode": {
    "name": "ipython",
    "version": 3
   },
   "file_extension": ".py",
   "mimetype": "text/x-python",
   "name": "python",
   "nbconvert_exporter": "python",
   "pygments_lexer": "ipython3",
   "version": "3.11.4"
  }
 },
 "nbformat": 4,
 "nbformat_minor": 5
}
