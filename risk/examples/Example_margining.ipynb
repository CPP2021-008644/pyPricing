{
 "cells": [
  {
   "cell_type": "markdown",
   "id": "2cac3c86",
   "metadata": {},
   "source": [
    "# Margining"
   ]
  },
  {
   "cell_type": "markdown",
   "id": "3caaa19c",
   "metadata": {},
   "source": [
    "Required Packages"
   ]
  },
  {
   "cell_type": "code",
   "execution_count": 1,
   "id": "11881e4e",
   "metadata": {},
   "outputs": [],
   "source": [
    "import sys, os\n",
    "import pandas as pd\n",
    "pypricing_directory = os.path.expanduser('~/ArfimaTools/pypricing')\n",
    "sys.path.insert(1,pypricing_directory)\n",
    "from data.underlyings import Underlying\n",
    "from risk.margining import *"
   ]
  },
  {
   "cell_type": "markdown",
   "id": "7add4715",
   "metadata": {},
   "source": [
    "Obtaining sample data. We use natural gas data from the Iberian market."
   ]
  },
  {
   "cell_type": "code",
   "execution_count": 2,
   "id": "0b7f9ea8",
   "metadata": {},
   "outputs": [],
   "source": [
    "data = pd.read_excel('example_data.xlsx', index_col=0)"
   ]
  },
  {
   "cell_type": "markdown",
   "id": "0ffd2776",
   "metadata": {},
   "source": [
    "## 1. Scan Range Functions for volatility risk_factors<br />(EWMARiskFactor or GARCHRiskFactor)\n"
   ]
  },
  {
   "cell_type": "markdown",
   "id": "3ebd3d5f",
   "metadata": {},
   "source": [
    "We start by creating a `risk_factor` instance so we can compute margins on the price series.\n"
   ]
  },
  {
   "cell_type": "code",
   "execution_count": null,
   "id": "d8c0b444",
   "metadata": {},
   "outputs": [],
   "source": [
    "# read data from pickle\n",
    "ng_prices = data[['Natural Gas']].rename(columns={'Natural Gas':'Price'}) \n",
    "# define Underlyings\n",
    "underlying_ng = Underlying('NG')\n",
    "underlying_ng.set_data(ng_prices)\n",
    "\n",
    "# define and fit garch risk factors\n",
    "riskfactor_ng = EWMARiskFactor(underlying_ng)\n",
    "# riskfactor_ng = GARCHRiskFactor(underlying_ng)\n",
    "riskfactor_ng.fit()"
   ]
  },
  {
   "cell_type": "code",
   "execution_count": null,
   "id": "54e910b9",
   "metadata": {},
   "outputs": [],
   "source": [
    "underlying_ng.get_value(underlying_ng.get_dates()).plot()"
   ]
  },
  {
   "cell_type": "markdown",
   "id": "ea6706db",
   "metadata": {},
   "source": [
    "### 1.1. scan_range_white_noise"
   ]
  },
  {
   "cell_type": "code",
   "execution_count": 5,
   "id": "dc868003",
   "metadata": {},
   "outputs": [],
   "source": [
    "dates = riskfactor_ng.get_dates()[250:]"
   ]
  },
  {
   "cell_type": "code",
   "execution_count": null,
   "id": "2983e3af",
   "metadata": {},
   "outputs": [],
   "source": [
    "scan_range = scan_range_white_noise(riskfactor_ng, dates=riskfactor_ng.underlying.get_dates())\n",
    "ax, df = plot_margin_backtest(scan_range=scan_range, prices=underlying_ng.get_value(underlying_ng.get_dates()), dates=dates)"
   ]
  },
  {
   "cell_type": "markdown",
   "id": "456663d8",
   "metadata": {},
   "source": [
    "Compare scan range with two-day price change for backtesting. "
   ]
  },
  {
   "cell_type": "markdown",
   "id": "c414bdc3",
   "metadata": {},
   "source": [
    "### 1.2. scan_range_bilateral_var"
   ]
  },
  {
   "cell_type": "code",
   "execution_count": null,
   "id": "6dd6f786",
   "metadata": {},
   "outputs": [],
   "source": [
    "scan_range = scan_range_bilateral_var(riskfactor_ng, dates=riskfactor_ng.underlying.get_dates())\n",
    "ax, df = plot_margin_backtest(scan_range=scan_range, prices=underlying_ng.get_value(underlying_ng.get_dates()), dates=dates)"
   ]
  },
  {
   "cell_type": "markdown",
   "id": "fc1f6180",
   "metadata": {},
   "source": [
    "### 1.3. scan_range_var"
   ]
  },
  {
   "cell_type": "code",
   "execution_count": null,
   "id": "5f6a2b84",
   "metadata": {},
   "outputs": [],
   "source": [
    "scan_range = scan_range_var(riskfactor_ng, dates=riskfactor_ng.underlying.get_dates())\n",
    "ax, df = plot_margin_backtest(scan_range=scan_range, prices=underlying_ng.get_value(underlying_ng.get_dates()), dates=dates)"
   ]
  },
  {
   "cell_type": "markdown",
   "id": "2b217275",
   "metadata": {},
   "source": [
    "### 1.4. scan_range_returns_normalized"
   ]
  },
  {
   "cell_type": "code",
   "execution_count": null,
   "id": "ab3c3d0c",
   "metadata": {},
   "outputs": [],
   "source": [
    "scan_range = scan_range_returns_normalized(riskfactor_ng, dates=riskfactor_ng.underlying.get_dates())\n",
    "ax, df = plot_margin_backtest(scan_range=scan_range, prices=underlying_ng.get_value(underlying_ng.get_dates()), dates=dates)"
   ]
  },
  {
   "cell_type": "markdown",
   "id": "69cf44e6",
   "metadata": {},
   "source": [
    "## 2. Scan Range Functions for drawdown-based risk_factors<br />(drawdownsRiskFactor)\n"
   ]
  },
  {
   "cell_type": "code",
   "execution_count": 10,
   "id": "5c4f39ed",
   "metadata": {},
   "outputs": [],
   "source": [
    "drawdownriskfactor_ng = drawdownsRiskFactor(underlying_ng)\n",
    "drawdownriskfactor_ng.fit()"
   ]
  },
  {
   "cell_type": "markdown",
   "id": "62ea1838",
   "metadata": {},
   "source": [
    "### 2.1. hybrid_var_es_scan_range"
   ]
  },
  {
   "cell_type": "code",
   "execution_count": null,
   "id": "dde46de3",
   "metadata": {},
   "outputs": [],
   "source": [
    "scan_range = hybrid_var_es_scan_range(drawdownriskfactor_ng, dates=drawdownriskfactor_ng.underlying.get_dates())\n",
    "ax, df = plot_margin_backtest(scan_range=scan_range, prices=underlying_ng.get_value(underlying_ng.get_dates()), dates=dates)"
   ]
  },
  {
   "cell_type": "code",
   "execution_count": null,
   "id": "2b0864e9",
   "metadata": {},
   "outputs": [],
   "source": []
  }
 ],
 "metadata": {
  "kernelspec": {
   "display_name": "base",
   "language": "python",
   "name": "python3"
  },
  "language_info": {
   "codemirror_mode": {
    "name": "ipython",
    "version": 3
   },
   "file_extension": ".py",
   "mimetype": "text/x-python",
   "name": "python",
   "nbconvert_exporter": "python",
   "pygments_lexer": "ipython3",
   "version": "3.11.4"
  }
 },
 "nbformat": 4,
 "nbformat_minor": 5
}
