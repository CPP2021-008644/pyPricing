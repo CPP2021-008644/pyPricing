{
 "cells": [
  {
   "cell_type": "markdown",
   "metadata": {},
   "source": [
    "<img src=\"https://afs-services.com/wp-content/uploads/2025/09/pypricing_banner.png\" alt=\"RV Banner\" style=\"width: 100%; height: auto; display: block;\">"
   ]
  },
  {
   "attachments": {},
   "cell_type": "markdown",
   "metadata": {},
   "source": [
    "# Comparison CDS default and premium leg"
   ]
  },
  {
   "attachments": {},
   "cell_type": "markdown",
   "metadata": {},
   "source": [
    "Old code vs New code. We assume the same survival curve for both."
   ]
  },
  {
   "attachments": {},
   "cell_type": "markdown",
   "metadata": {},
   "source": [
    "# Import"
   ]
  },
  {
   "cell_type": "code",
   "execution_count": 1,
   "metadata": {},
   "outputs": [],
   "source": [
    "import sys, os, json\n",
    "import numpy as np\n",
    "\n",
    "np.set_printoptions(precision=50, suppress=True)\n",
    "import pandas as pd\n",
    "\n",
    "repo_root = os.path.abspath(\"..\")\n",
    "sys.path.insert(0, repo_root)\n",
    "import afslibrary as afs\n",
    "from pathlib import Path\n",
    "\n",
    "import db_tools\n",
    "\n",
    "beautiful_data = db_tools.BeautifulDataAFSStyle()\n",
    "d = afs.DataFactory(beautiful_data)\n",
    "calendars = d.import_calendar(\"Act360\")"
   ]
  },
  {
   "attachments": {},
   "cell_type": "markdown",
   "metadata": {},
   "source": [
    "# Example 1 (similar results)"
   ]
  },
  {
   "attachments": {},
   "cell_type": "markdown",
   "metadata": {},
   "source": [
    "CDS Survival Curve"
   ]
  },
  {
   "cell_type": "code",
   "execution_count": 2,
   "metadata": {},
   "outputs": [],
   "source": [
    "evaluation_date = pd.to_datetime(\"2020-06-20\")\n",
    "maturity = pd.to_datetime(\"2022-06-20\")"
   ]
  },
  {
   "attachments": {},
   "cell_type": "markdown",
   "metadata": {},
   "source": [
    "We check they are IMM dates"
   ]
  },
  {
   "cell_type": "code",
   "execution_count": 3,
   "metadata": {},
   "outputs": [
    {
     "data": {
      "text/plain": [
       "array([Timestamp('2020-06-22 00:00:00')], dtype=object)"
      ]
     },
     "execution_count": 3,
     "metadata": {},
     "output_type": "execute_result"
    }
   ],
   "source": [
    "afs.CDSCurve.get_imm_dates(evaluation_date, evaluation_date)"
   ]
  },
  {
   "cell_type": "code",
   "execution_count": 4,
   "metadata": {},
   "outputs": [
    {
     "data": {
      "text/plain": [
       "array([Timestamp('2022-06-20 00:00:00')], dtype=object)"
      ]
     },
     "execution_count": 4,
     "metadata": {},
     "output_type": "execute_result"
    }
   ],
   "source": [
    "afs.CDSCurve.get_imm_dates(maturity, maturity)"
   ]
  },
  {
   "cell_type": "code",
   "execution_count": 5,
   "metadata": {},
   "outputs": [],
   "source": [
    "risk_free_r = 0.02\n",
    "recovery_rate = 0.4\n",
    "\n",
    "discount_curve = afs.CRDC(r=risk_free_r, calendar=calendars[\"Act360\"])\n",
    "tenors = [1, 2, 4, 8]  # In years\n",
    "hazard_rates = [0.02, 0.03, 0.04, 0.09]\n",
    "\n",
    "cds_curve = afs.CDSCurve(\n",
    "    \"CDS Survival\", True, calendar=calendars[\"Act360\"], discount_curve=discount_curve\n",
    ")\n",
    "\n",
    "arr = np.array(hazard_rates)\n",
    "arr_2d = arr.reshape(1, -1)\n",
    "cols = tenors\n",
    "df_hazard_rates = pd.DataFrame(arr_2d, index=[evaluation_date], columns=cols)"
   ]
  },
  {
   "attachments": {},
   "cell_type": "markdown",
   "metadata": {},
   "source": [
    "Equivalent to the result of CDSCurve.fit"
   ]
  },
  {
   "cell_type": "code",
   "execution_count": 6,
   "metadata": {},
   "outputs": [],
   "source": [
    "cds_curve.hazard_rates = df_hazard_rates\n",
    "cds_curve.fitting_dates = df_hazard_rates.index\n",
    "cds_curve.interpolation_data = -df_hazard_rates\n",
    "cds_curve.params = {\n",
    "    -1: -df_hazard_rates,\n",
    "    0: -df_hazard_rates,\n",
    "    1: -df_hazard_rates,\n",
    "}  # For this example we do not consider the perturbations."
   ]
  },
  {
   "attachments": {},
   "cell_type": "markdown",
   "metadata": {},
   "source": [
    "CDS legs (CRS, using the CDS class with the new modifications)"
   ]
  },
  {
   "cell_type": "code",
   "execution_count": 7,
   "metadata": {},
   "outputs": [
    {
     "name": "stdout",
     "output_type": "stream",
     "text": [
      "Default leg: [29241.06430195958]\n",
      "2020-06-20   -67373.987084\n",
      "dtype: float64\n"
     ]
    }
   ],
   "source": [
    "nominal = 1000000.0\n",
    "premium_rate = 0.05\n",
    "\n",
    "cds_pypricing = afs.CDS(\n",
    "    cds_curve,\n",
    "    effective_date=evaluation_date,\n",
    "    maturity=maturity,\n",
    "    premium_rate=premium_rate,\n",
    "    nominal=nominal,\n",
    ")\n",
    "print(\n",
    "    cds_pypricing.get_px(dates=evaluation_date, discount_curve=discount_curve)\n",
    ")  # clean=True since t is a payment date\n"
   ]
  },
  {
   "attachments": {},
   "cell_type": "markdown",
   "metadata": {},
   "source": [
    "Artur (now using the old CDSRate class)"
   ]
  },
  {
   "cell_type": "code",
   "execution_count": 8,
   "metadata": {},
   "outputs": [
    {
     "name": "stdout",
     "output_type": "stream",
     "text": [
      "Coupon/Premium Leg: 2020-06-20   -0.096892\n",
      "dtype: float64\n",
      "Protection/Default Leg: 2020-06-20    0.02924\n",
      "dtype: float64\n"
     ]
    }
   ],
   "source": [
    "cds_afa = afs.CDSRate(\n",
    "    cds_curve,\n",
    "    effective_date=evaluation_date,\n",
    "    end_date=maturity,\n",
    "    freq=3,\n",
    "    calendar=calendars[\"Act360\"],\n",
    ")\n",
    "print(\n",
    "    f\"Coupon/Premium Leg: {-premium_rate * cds_afa.get_rpvbp(dates=evaluation_date, discount_curve=discount_curve)}\"\n",
    ")\n",
    "print(\n",
    "    f\"Protection/Default Leg: {cds_afa.get_value(dates=evaluation_date, discount_curve=discount_curve) * cds_afa.get_rpvbp(dates=evaluation_date, discount_curve=discount_curve)}\"\n",
    ")"
   ]
  },
  {
   "attachments": {},
   "cell_type": "markdown",
   "metadata": {},
   "source": [
    "# Example 2 (different results due to the definition of maturity)"
   ]
  },
  {
   "attachments": {},
   "cell_type": "markdown",
   "metadata": {},
   "source": [
    "In these case the results are different due to the definition of maturity in a CDS contract."
   ]
  },
  {
   "cell_type": "markdown",
   "metadata": {},
   "source": [
    "CDS Survival Curve"
   ]
  },
  {
   "cell_type": "code",
   "execution_count": 9,
   "metadata": {},
   "outputs": [],
   "source": [
    "evaluation_date = pd.to_datetime(\"2023-03-20\")\n",
    "maturity = pd.to_datetime(\"2024-06-21\")"
   ]
  },
  {
   "attachments": {},
   "cell_type": "markdown",
   "metadata": {},
   "source": [
    "Note that maturity  is calculated as the first ‘IMM’ date T years after the effective date. In consequence, if the maturity introduced is not a IMM date,\n",
    "      the next IMM date is considered."
   ]
  },
  {
   "cell_type": "code",
   "execution_count": 10,
   "metadata": {},
   "outputs": [
    {
     "data": {
      "text/plain": [
       "array([Timestamp('2024-09-20 00:00:00')], dtype=object)"
      ]
     },
     "execution_count": 10,
     "metadata": {},
     "output_type": "execute_result"
    }
   ],
   "source": [
    "afs.CDSCurve.get_imm_dates(maturity, maturity)"
   ]
  },
  {
   "cell_type": "code",
   "execution_count": 11,
   "metadata": {},
   "outputs": [],
   "source": [
    "risk_free_r = 0.04\n",
    "recovery_rate = 0.2\n",
    "\n",
    "discount_curve = afs.CRDC(r=risk_free_r, calendar=calendars[\"Act360\"])\n",
    "tenors = [0.5, 2, 4, 6]  # In years\n",
    "hazard_rates = [0.0250, 0.0325, 0.0452, 0.0865]\n",
    "\n",
    "cds_curve = afs.CDSCurve(\n",
    "    \"CDS Survival\", True, calendar=calendars[\"Act360\"], discount_curve=discount_curve\n",
    ")\n",
    "\n",
    "arr = np.array(hazard_rates)\n",
    "arr_2d = arr.reshape(1, -1)\n",
    "cols = tenors\n",
    "df_hazard_rates = pd.DataFrame(arr_2d, index=[evaluation_date], columns=cols)"
   ]
  },
  {
   "cell_type": "markdown",
   "metadata": {},
   "source": [
    "Equivalent to the result of CDSCurve.fit"
   ]
  },
  {
   "cell_type": "code",
   "execution_count": 12,
   "metadata": {},
   "outputs": [],
   "source": [
    "cds_curve.hazard_rates = df_hazard_rates\n",
    "cds_curve.fitting_dates = df_hazard_rates.index\n",
    "cds_curve.interpolation_data = -df_hazard_rates\n",
    "cds_curve.params = {\n",
    "    -1: -df_hazard_rates,\n",
    "    0: -df_hazard_rates,\n",
    "    1: -df_hazard_rates,\n",
    "}  # For this example we do not consider the perturbations."
   ]
  },
  {
   "cell_type": "markdown",
   "metadata": {},
   "source": [
    "CDS legs (CRS, using the CDS class with the new modifications)"
   ]
  },
  {
   "cell_type": "code",
   "execution_count": 13,
   "metadata": {},
   "outputs": [
    {
     "name": "stdout",
     "output_type": "stream",
     "text": [
      "Default leg: [26075.106468046193]\n",
      "2023-03-20   -46091.045211\n",
      "dtype: float64\n"
     ]
    }
   ],
   "source": [
    "nominal = 1000000.0\n",
    "premium_rate = 0.05\n",
    "\n",
    "cds_pypricing = afs.CDS(\n",
    "    cds_curve,\n",
    "    effective_date=evaluation_date,\n",
    "    maturity=maturity,\n",
    "    premium_rate=premium_rate,\n",
    "    nominal=nominal,\n",
    ")\n",
    "print(\n",
    "    cds_pypricing.get_px(dates=evaluation_date, discount_curve=discount_curve)\n",
    ")  # clean=True since t is a payment date\n"
   ]
  },
  {
   "cell_type": "markdown",
   "metadata": {},
   "source": [
    "Artur (now using the old CDSRate class)"
   ]
  },
  {
   "cell_type": "code",
   "execution_count": 14,
   "metadata": {},
   "outputs": [
    {
     "name": "stdout",
     "output_type": "stream",
     "text": [
      "Coupon/Premium Leg: 2023-03-20   -0.060764\n",
      "dtype: float64\n",
      "Protection/Default Leg: 2023-03-20    0.021604\n",
      "dtype: float64\n"
     ]
    }
   ],
   "source": [
    "cds_afa = afs.CDSRate(\n",
    "    cds_curve,\n",
    "    effective_date=evaluation_date,\n",
    "    end_date=maturity,\n",
    "    freq=3,\n",
    "    calendar=calendars[\"Act360\"],\n",
    ")\n",
    "print(\n",
    "    f\"Coupon/Premium Leg: {-premium_rate * cds_afa.get_rpvbp(dates=evaluation_date, discount_curve=discount_curve)}\"\n",
    ")\n",
    "print(\n",
    "    f\"Protection/Default Leg: {cds_afa.get_value(dates=evaluation_date, discount_curve=discount_curve) * cds_afa.get_rpvbp(dates=evaluation_date, discount_curve=discount_curve)}\"\n",
    ")"
   ]
  }
 ],
 "metadata": {
  "kernelspec": {
   "display_name": "venv2",
   "language": "python",
   "name": "python3"
  },
  "language_info": {
   "codemirror_mode": {
    "name": "ipython",
    "version": 3
   },
   "file_extension": ".py",
   "mimetype": "text/x-python",
   "name": "python",
   "nbconvert_exporter": "python",
   "pygments_lexer": "ipython3",
   "version": "3.11.12"
  },
  "orig_nbformat": 4
 },
 "nbformat": 4,
 "nbformat_minor": 2
}
