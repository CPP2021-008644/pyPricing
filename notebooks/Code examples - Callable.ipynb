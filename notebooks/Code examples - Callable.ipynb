{
 "cells": [
  {
   "cell_type": "markdown",
   "metadata": {},
   "source": [
    "<img src=\"https://afs-services.com/wp-content/uploads/2025/09/pypricing_banner.png\" alt=\"RV Banner\" style=\"width: 100%; height: auto; display: block;\">"
   ]
  },
  {
   "cell_type": "markdown",
   "metadata": {},
   "source": [
    "#  Importing"
   ]
  },
  {
   "cell_type": "markdown",
   "metadata": {},
   "source": [
    "general packages"
   ]
  },
  {
   "cell_type": "code",
   "execution_count": 1,
   "metadata": {},
   "outputs": [],
   "source": [
    "import sys, os, json\n",
    "import numpy as np\n",
    "import pandas as pd"
   ]
  },
  {
   "cell_type": "markdown",
   "metadata": {},
   "source": [
    "our library"
   ]
  },
  {
   "cell_type": "code",
   "execution_count": 2,
   "metadata": {},
   "outputs": [],
   "source": [
    "repo_root = os.path.abspath(\"..\")\n",
    "sys.path.insert(0, repo_root)\n",
    "import afslibrary as afs"
   ]
  },
  {
   "cell_type": "markdown",
   "metadata": {},
   "source": [
    "**importing data objects**"
   ]
  },
  {
   "cell_type": "markdown",
   "metadata": {},
   "source": [
    "We first need a \"database translator\" like Beautiful Data, which transforms database queries into python synthax:"
   ]
  },
  {
   "cell_type": "code",
   "execution_count": 3,
   "metadata": {},
   "outputs": [],
   "source": [
    "import db_tools\n",
    "\n",
    "db = db_tools.BeautifulDataAFSStyle()\n",
    "d = afs.DataFactory(db)"
   ]
  },
  {
   "cell_type": "markdown",
   "metadata": {},
   "source": [
    "we can now import the data objects"
   ]
  },
  {
   "cell_type": "code",
   "execution_count": 4,
   "metadata": {},
   "outputs": [],
   "source": [
    "calendars = d.import_calendar(\"Act360\", \"Act365\", \"Cal30360\")\n",
    "underlyings = d.import_underlying(\n",
    "    \"SX5E\",\n",
    "    \"RTY\",\n",
    "    \"ESTRON Index\",\n",
    "    start_date=\"20200101\",\n",
    "    end_date=\"20211231\",\n",
    ")"
   ]
  },
  {
   "attachments": {},
   "cell_type": "markdown",
   "metadata": {},
   "source": [
    "# American/Bermudan Options"
   ]
  },
  {
   "cell_type": "code",
   "execution_count": null,
   "metadata": {},
   "outputs": [],
   "source": []
  },
  {
   "cell_type": "markdown",
   "metadata": {},
   "source": [
    "## DLIB Example"
   ]
  },
  {
   "cell_type": "markdown",
   "metadata": {},
   "source": [
    "Example p.9 of American Monte Carlo DLIB\n"
   ]
  },
  {
   "cell_type": "code",
   "execution_count": 5,
   "metadata": {},
   "outputs": [],
   "source": [
    "calendar = \"Act360\"\n",
    "paths = np.array(\n",
    "    [\n",
    "        [8.0, 11.0, 15.0, 18.0],\n",
    "        [8.0, 10.0, 11.0, 6.0],\n",
    "        [8.0, 9.0, 6.0, 6.0],\n",
    "        [8.0, 6.0, 5.0, 8.0],\n",
    "        [8.0, 4.0, 3.0, 2.0],\n",
    "    ]\n",
    ")\n",
    "paths = paths[:, :, np.newaxis, np.newaxis]\n",
    "curve = afs.CRDC(0.0, calendars[calendar])\n",
    "strike = 9\n",
    "dates = [\"20200202\"]\n",
    "pay_dates = afs.dates_formatting([\"20200202\", \"20240201\", \"20250201\", \"20260201\"])\n",
    "dates_dic = {}\n",
    "for i in range(pay_dates.size):\n",
    "    dates_dic[pay_dates[i]] = i\n",
    "simulation_data = [[afs.dates_formatting(pay_dates[0]), paths, 0, dates_dic]]\n",
    "american_put = afs.AmericanVanillaOption(\n",
    "    underlying=underlyings[\"SX5E\"],\n",
    "    strike=strike,\n",
    "    kind=\"put\",\n",
    "    calendar=calendars[calendar],\n",
    "    pay_dates=pay_dates,\n",
    "    nominal=1,\n",
    ")\n",
    "american_call = afs.AmericanVanillaOption(\n",
    "    underlying=underlyings[\"SX5E\"],\n",
    "    strike=strike,\n",
    "    kind=\"call\",\n",
    "    calendar=calendars[calendar],\n",
    "    pay_dates=pay_dates,\n",
    "    nominal=1,\n",
    ")\n",
    "european_call = afs.Call(\n",
    "    underlying=underlyings[\"SX5E\"],\n",
    "    strike=strike,\n",
    "    calendar=calendars[calendar],\n",
    "    maturity=pay_dates[-1],\n",
    "    nominal=1 * strike,\n",
    ")\n",
    "european_put = afs.Put(\n",
    "    underlying=underlyings[\"SX5E\"],\n",
    "    strike=strike,\n",
    "    calendar=calendars[calendar],\n",
    "    maturity=pay_dates[-1],\n",
    "    nominal=1 * strike,\n",
    ")\n",
    "engine = afs.RegressionMC()"
   ]
  },
  {
   "cell_type": "markdown",
   "metadata": {},
   "source": [
    "Compute prices"
   ]
  },
  {
   "cell_type": "code",
   "execution_count": 6,
   "metadata": {},
   "outputs": [
    {
     "data": {
      "application/vnd.microsoft.datawrangler.viewer.v0+json": {
       "columns": [
        {
         "name": "index",
         "rawType": "int64",
         "type": "integer"
        },
        {
         "name": "Option Type",
         "rawType": "object",
         "type": "string"
        },
        {
         "name": "Price",
         "rawType": "float64",
         "type": "float"
        }
       ],
       "ref": "7c9fbf0d-d7b7-4a4b-b817-a0f328a0d5c1",
       "rows": [
        [
         "0",
         "American Put (LS Method)",
         "3.2"
        ],
        [
         "1",
         "American Put (TvR Method)",
         "3.4000000000009636"
        ],
        [
         "2",
         "European Put (MC Simulations)",
         "25.2"
        ],
        [
         "3",
         "American Call (LS Method)",
         "2.2"
        ],
        [
         "4",
         "American Call (TvR Method)",
         "2.1999999999974946"
        ],
        [
         "5",
         "European Call (MC Simulations)",
         "16.2"
        ]
       ],
       "shape": {
        "columns": 2,
        "rows": 6
       }
      },
      "text/html": [
       "<div>\n",
       "<style scoped>\n",
       "    .dataframe tbody tr th:only-of-type {\n",
       "        vertical-align: middle;\n",
       "    }\n",
       "\n",
       "    .dataframe tbody tr th {\n",
       "        vertical-align: top;\n",
       "    }\n",
       "\n",
       "    .dataframe thead th {\n",
       "        text-align: right;\n",
       "    }\n",
       "</style>\n",
       "<table border=\"1\" class=\"dataframe\">\n",
       "  <thead>\n",
       "    <tr style=\"text-align: right;\">\n",
       "      <th></th>\n",
       "      <th>Option Type</th>\n",
       "      <th>Price</th>\n",
       "    </tr>\n",
       "  </thead>\n",
       "  <tbody>\n",
       "    <tr>\n",
       "      <th>0</th>\n",
       "      <td>American Put (LS Method)</td>\n",
       "      <td>3.2</td>\n",
       "    </tr>\n",
       "    <tr>\n",
       "      <th>1</th>\n",
       "      <td>American Put (TvR Method)</td>\n",
       "      <td>3.4</td>\n",
       "    </tr>\n",
       "    <tr>\n",
       "      <th>2</th>\n",
       "      <td>European Put (MC Simulations)</td>\n",
       "      <td>25.2</td>\n",
       "    </tr>\n",
       "    <tr>\n",
       "      <th>3</th>\n",
       "      <td>American Call (LS Method)</td>\n",
       "      <td>2.2</td>\n",
       "    </tr>\n",
       "    <tr>\n",
       "      <th>4</th>\n",
       "      <td>American Call (TvR Method)</td>\n",
       "      <td>2.2</td>\n",
       "    </tr>\n",
       "    <tr>\n",
       "      <th>5</th>\n",
       "      <td>European Call (MC Simulations)</td>\n",
       "      <td>16.2</td>\n",
       "    </tr>\n",
       "  </tbody>\n",
       "</table>\n",
       "</div>"
      ],
      "text/plain": [
       "                      Option Type  Price\n",
       "0        American Put (LS Method)    3.2\n",
       "1       American Put (TvR Method)    3.4\n",
       "2   European Put (MC Simulations)   25.2\n",
       "3       American Call (LS Method)    2.2\n",
       "4      American Call (TvR Method)    2.2\n",
       "5  European Call (MC Simulations)   16.2"
      ]
     },
     "execution_count": 6,
     "metadata": {},
     "output_type": "execute_result"
    }
   ],
   "source": [
    "price_data = {\n",
    "    \"Option Type\": [\n",
    "        \"American Put (LS Method)\",\n",
    "        \"American Put (TvR Method)\",\n",
    "        \"European Put (MC Simulations)\",\n",
    "        \"American Call (LS Method)\",\n",
    "        \"American Call (TvR Method)\",\n",
    "        \"European Call (MC Simulations)\",\n",
    "    ],\n",
    "    \"Price\": [\n",
    "        engine.compute_price_from_simulations(\n",
    "            american_put, curve, simulation_data, method=(\"LS\", 1)\n",
    "        ).values[0],\n",
    "        engine.compute_price_from_simulations(\n",
    "            american_put, curve, simulation_data, method=(\"TvR\", 3)\n",
    "        ).values[0],\n",
    "        afs.DeterministicVolDiffusionMC()\n",
    "        .compute_price_from_simulations(european_put, curve, simulation_data)\n",
    "        .values[0],\n",
    "        engine.compute_price_from_simulations(\n",
    "            american_call, curve, simulation_data, method=(\"LS\", 3)\n",
    "        ).values[0],\n",
    "        engine.compute_price_from_simulations(\n",
    "            american_call, curve, simulation_data, method=(\"TvR\", 3)\n",
    "        ).values[0],\n",
    "        afs.DeterministicVolDiffusionMC()\n",
    "        .compute_price_from_simulations(european_call, curve, simulation_data)\n",
    "        .values[0],\n",
    "    ],\n",
    "}\n",
    "df = pd.DataFrame(price_data)\n",
    "df"
   ]
  },
  {
   "cell_type": "markdown",
   "metadata": {},
   "source": [
    "## Glasserman"
   ]
  },
  {
   "cell_type": "markdown",
   "metadata": {},
   "source": [
    "Example of Glasserman, Chapter 8, p.463"
   ]
  },
  {
   "cell_type": "code",
   "execution_count": 7,
   "metadata": {},
   "outputs": [],
   "source": [
    "# Data\n",
    "calendar = \"Act360\"\n",
    "curve = afs.CRDC(0.05, calendars[calendar])\n",
    "strike = 100\n",
    "dates = [\"20200203\"]\n",
    "pay_dates = pd.DatetimeIndex(\n",
    "    [\n",
    "        pd.to_datetime(date) + pd.DateOffset(days=i * 360 / 3)\n",
    "        for date in dates\n",
    "        for i in range(1, 10)\n",
    "    ]\n",
    ")\n",
    "\n",
    "data = pd.DataFrame(\n",
    "    index=underlyings[\"SX5E\"].get_dates().union(underlyings[\"RTY\"].get_dates()),\n",
    "    columns=[\"Price\", \"Volatility\", \"Dividend Rate\"],\n",
    ")\n",
    "data[\"Price\"] = 100\n",
    "data[\"Volatility\"] = 0.2\n",
    "data[\"Dividend Rate\"] = 0.1\n",
    "underlyings[\"SX5E\"].set_data(data)\n",
    "underlyings[\"RTY\"].set_data(data)\n",
    "corr = {}\n",
    "for date in dates:\n",
    "    corr[pd.to_datetime(date)] = np.array([[1, 0], [0, 1]])\n",
    "underlyings_multi = afs.MultiAsset(underlyings[\"SX5E\"], underlyings[\"RTY\"])\n",
    "underlyings_multi.corr = corr\n",
    "underlyings_single = underlyings[\"SX5E\"]"
   ]
  },
  {
   "cell_type": "markdown",
   "metadata": {},
   "source": [
    "Products"
   ]
  },
  {
   "cell_type": "code",
   "execution_count": 8,
   "metadata": {},
   "outputs": [],
   "source": [
    "american_put = afs.AmericanVanillaOption(\n",
    "    underlying=underlyings_multi,\n",
    "    strike=strike,\n",
    "    kind=\"put\",\n",
    "    calendar=calendars[calendar],\n",
    "    pay_dates=pay_dates,\n",
    "    nominal=1,\n",
    "    phi=\"max\",\n",
    ")\n",
    "american_call = afs.AmericanVanillaOption(\n",
    "    underlying=underlyings_multi,\n",
    "    strike=strike,\n",
    "    kind=\"call\",\n",
    "    calendar=calendars[calendar],\n",
    "    pay_dates=pay_dates,\n",
    "    nominal=1,\n",
    "    phi=\"max\",\n",
    ")\n",
    "european_call = afs.Call(\n",
    "    underlying=underlyings_multi,\n",
    "    maturity=pay_dates[-1],\n",
    "    strike=strike,\n",
    "    calendar=calendars[calendar],\n",
    "    nominal=strike,\n",
    "    phi=\"max\",\n",
    ")\n",
    "# Nominal to make it comparable"
   ]
  },
  {
   "cell_type": "markdown",
   "metadata": {},
   "source": [
    "Monte Carlo Pricing"
   ]
  },
  {
   "cell_type": "code",
   "execution_count": 9,
   "metadata": {},
   "outputs": [],
   "source": [
    "engine_am = afs.RegressionMC()\n",
    "no_paths = 10**6"
   ]
  },
  {
   "cell_type": "code",
   "execution_count": 10,
   "metadata": {},
   "outputs": [
    {
     "data": {
      "application/vnd.microsoft.datawrangler.viewer.v0+json": {
       "columns": [
        {
         "name": "index",
         "rawType": "int64",
         "type": "integer"
        },
        {
         "name": "Price",
         "rawType": "object",
         "type": "string"
        },
        {
         "name": "Method",
         "rawType": "object",
         "type": "string"
        },
        {
         "name": "Actual",
         "rawType": "float64",
         "type": "float"
        },
        {
         "name": "Expected",
         "rawType": "float64",
         "type": "float"
        },
        {
         "name": "Realative error",
         "rawType": "float64",
         "type": "float"
        }
       ],
       "ref": "155f321a-e52b-44b1-a160-1dcb8829c178",
       "rows": [
        [
         "0",
         "90",
         "('LS', 2)",
         "8.024131355684803",
         "7.99",
         "0.004271759159549794"
        ],
        [
         "1",
         "90",
         "('TvR', 2)",
         "8.201798197402985",
         "8.27",
         "-0.008246892696132383"
        ],
        [
         "2",
         "100",
         "('LS', 2)",
         "13.83466897304088",
         "13.78",
         "0.003967269451442754"
        ],
        [
         "3",
         "100",
         "('TvR', 2)",
         "13.993064055831091",
         "14.08",
         "-0.006174427852905456"
        ],
        [
         "4",
         "110",
         "('LS', 2)",
         "21.229316156007403",
         "21.16",
         "0.003275810775397124"
        ],
        [
         "5",
         "110",
         "('TvR', 2)",
         "21.339791329178652",
         "21.38",
         "-0.0018806674846280037"
        ]
       ],
       "shape": {
        "columns": 5,
        "rows": 6
       }
      },
      "text/html": [
       "<div>\n",
       "<style scoped>\n",
       "    .dataframe tbody tr th:only-of-type {\n",
       "        vertical-align: middle;\n",
       "    }\n",
       "\n",
       "    .dataframe tbody tr th {\n",
       "        vertical-align: top;\n",
       "    }\n",
       "\n",
       "    .dataframe thead th {\n",
       "        text-align: right;\n",
       "    }\n",
       "</style>\n",
       "<table border=\"1\" class=\"dataframe\">\n",
       "  <thead>\n",
       "    <tr style=\"text-align: right;\">\n",
       "      <th></th>\n",
       "      <th>Price</th>\n",
       "      <th>Method</th>\n",
       "      <th>Actual</th>\n",
       "      <th>Expected</th>\n",
       "      <th>Realative error</th>\n",
       "    </tr>\n",
       "  </thead>\n",
       "  <tbody>\n",
       "    <tr>\n",
       "      <th>0</th>\n",
       "      <td>90</td>\n",
       "      <td>('LS', 2)</td>\n",
       "      <td>8.024131</td>\n",
       "      <td>7.99</td>\n",
       "      <td>0.004272</td>\n",
       "    </tr>\n",
       "    <tr>\n",
       "      <th>1</th>\n",
       "      <td>90</td>\n",
       "      <td>('TvR', 2)</td>\n",
       "      <td>8.201798</td>\n",
       "      <td>8.27</td>\n",
       "      <td>-0.008247</td>\n",
       "    </tr>\n",
       "    <tr>\n",
       "      <th>2</th>\n",
       "      <td>100</td>\n",
       "      <td>('LS', 2)</td>\n",
       "      <td>13.834669</td>\n",
       "      <td>13.78</td>\n",
       "      <td>0.003967</td>\n",
       "    </tr>\n",
       "    <tr>\n",
       "      <th>3</th>\n",
       "      <td>100</td>\n",
       "      <td>('TvR', 2)</td>\n",
       "      <td>13.993064</td>\n",
       "      <td>14.08</td>\n",
       "      <td>-0.006174</td>\n",
       "    </tr>\n",
       "    <tr>\n",
       "      <th>4</th>\n",
       "      <td>110</td>\n",
       "      <td>('LS', 2)</td>\n",
       "      <td>21.229316</td>\n",
       "      <td>21.16</td>\n",
       "      <td>0.003276</td>\n",
       "    </tr>\n",
       "    <tr>\n",
       "      <th>5</th>\n",
       "      <td>110</td>\n",
       "      <td>('TvR', 2)</td>\n",
       "      <td>21.339791</td>\n",
       "      <td>21.38</td>\n",
       "      <td>-0.001881</td>\n",
       "    </tr>\n",
       "  </tbody>\n",
       "</table>\n",
       "</div>"
      ],
      "text/plain": [
       "  Price      Method     Actual  Expected  Realative error\n",
       "0    90   ('LS', 2)   8.024131      7.99         0.004272\n",
       "1    90  ('TvR', 2)   8.201798      8.27        -0.008247\n",
       "2   100   ('LS', 2)  13.834669     13.78         0.003967\n",
       "3   100  ('TvR', 2)  13.993064     14.08        -0.006174\n",
       "4   110   ('LS', 2)  21.229316     21.16         0.003276\n",
       "5   110  ('TvR', 2)  21.339791     21.38        -0.001881"
      ]
     },
     "execution_count": 10,
     "metadata": {},
     "output_type": "execute_result"
    }
   ],
   "source": [
    "# Create a dataframe to collect results\n",
    "results_df = pd.DataFrame(columns=[\"Price\", \"Method\", \"Actual\", \"Expected\"])\n",
    "prices = np.array([90, 100, 110])\n",
    "methods = [(\"LS\", 2), (\"TvR\", 2)]\n",
    "expected = {\n",
    "    (90, (\"TvR\", 2)): 8.27,\n",
    "    (90, (\"LS\", 2)): 7.99,\n",
    "    (100, (\"TvR\", 2)): 14.08,\n",
    "    (100, (\"LS\", 2)): 13.78,\n",
    "    (110, (\"TvR\", 2)): 21.38,\n",
    "    (110, (\"LS\", 2)): 21.16,\n",
    "}\n",
    "\n",
    "# Collecting values in the loop to store in the dataframe\n",
    "for price in prices:\n",
    "    for method in methods:\n",
    "        data[\"Price\"] = price\n",
    "        underlyings[\"SX5E\"].set_data(data)\n",
    "        underlyings[\"RTY\"].set_data(data)\n",
    "        actual_value = engine_am.price(\n",
    "            american_call, dates, curve, no_paths, method=method\n",
    "        )\n",
    "        expected_value = expected[(price, method)]\n",
    "\n",
    "        # Append to dataframe using concatenate\n",
    "        new_row = pd.DataFrame(\n",
    "            {\n",
    "                \"Price\": [price],\n",
    "                \"Method\": [str(method)],\n",
    "                \"Actual\": [actual_value.values[0]],\n",
    "                \"Expected\": [expected_value],\n",
    "                \"Realative error\": [\n",
    "                    (actual_value.values[0] - expected_value) / expected_value\n",
    "                ],\n",
    "            }\n",
    "        )\n",
    "        results_df = pd.concat([results_df, new_row], ignore_index=True)\n",
    "\n",
    "# Display dataframe to get the table\n",
    "results_df"
   ]
  },
  {
   "cell_type": "markdown",
   "metadata": {},
   "source": [
    "## Longstaff-Schwartz paper"
   ]
  },
  {
   "cell_type": "markdown",
   "metadata": {},
   "source": [
    "Data"
   ]
  },
  {
   "cell_type": "code",
   "execution_count": 11,
   "metadata": {},
   "outputs": [],
   "source": [
    "calendar = \"Act365\"\n",
    "no_paths = 10**5\n",
    "curve = afs.CRDC(0.06, calendars[calendar])\n",
    "strike = 40\n",
    "date = \"20200203\"\n",
    "date = pd.to_datetime(date)\n",
    "T = 1\n",
    "# pay_dates = pd.date_range(start=date, end=date+pd.DateOffset(years=T), periods=50*T+1, inclusive=\"right\")\n",
    "pay_dates = pd.date_range(start=date, end=date + pd.DateOffset(years=T), periods=50 * T)\n",
    "data = pd.DataFrame(\n",
    "    index=underlyings[\"SX5E\"].get_dates().union(pay_dates),\n",
    "    columns=[\"Price\", \"Volatility\", \"Dividend Rate\"],\n",
    ")\n",
    "data[\"Price\"] = 36\n",
    "data[\"Volatility\"] = 0.4\n",
    "data[\"Dividend Rate\"] = 0\n",
    "underlyings[\"SX5E\"].set_data(data)\n",
    "underlyings_single = underlyings[\"SX5E\"]"
   ]
  },
  {
   "cell_type": "markdown",
   "metadata": {},
   "source": [
    "![alt text](Table1_LS.png)"
   ]
  },
  {
   "cell_type": "markdown",
   "metadata": {},
   "source": [
    "Prepare a DataFrame to collect the results for put, as in Table 1 of the paper"
   ]
  },
  {
   "cell_type": "code",
   "execution_count": 12,
   "metadata": {},
   "outputs": [
    {
     "data": {
      "application/vnd.microsoft.datawrangler.viewer.v0+json": {
       "columns": [
        {
         "name": "index",
         "rawType": "int64",
         "type": "integer"
        },
        {
         "name": "Type",
         "rawType": "object",
         "type": "string"
        },
        {
         "name": "Method",
         "rawType": "object",
         "type": "string"
        },
        {
         "name": "No. of Polynomials",
         "rawType": "object",
         "type": "string"
        },
        {
         "name": "Price",
         "rawType": "float64",
         "type": "float"
        }
       ],
       "ref": "b73944da-172a-4634-b548-c5c1c193ac8a",
       "rows": [
        [
         "0",
         "European Put",
         "Analytical",
         null,
         "268.6150486726259"
        ],
        [
         "1",
         "American Put",
         "LS (no.poly=0)",
         "0",
         "7.032710575681636"
        ],
        [
         "2",
         "American Put TvR",
         "TvR (no.poly=0)",
         "0",
         "7.373926312585276"
        ],
        [
         "3",
         "American Put",
         "LS (no.poly=1)",
         "1",
         "7.005351505749793"
        ],
        [
         "4",
         "American Put TvR",
         "TvR (no.poly=1)",
         "1",
         "7.474749576460401"
        ],
        [
         "5",
         "American Put",
         "LS (no.poly=2)",
         "2",
         "7.0355646852954505"
        ],
        [
         "6",
         "American Put TvR",
         "TvR (no.poly=2)",
         "2",
         "7.259721267530063"
        ],
        [
         "7",
         "American Put",
         "LS (no.poly=3)",
         "3",
         "7.071566478752705"
        ],
        [
         "8",
         "American Put TvR",
         "TvR (no.poly=3)",
         "3",
         "7.236178750894512"
        ],
        [
         "9",
         "American Put",
         "LS (no.poly=4)",
         "4",
         "7.084458256048036"
        ],
        [
         "10",
         "American Put TvR",
         "TvR (no.poly=4)",
         "4",
         "7.252355685235877"
        ],
        [
         "11",
         "American Put",
         "LS (no.poly=5)",
         "5",
         "7.066024485579478"
        ],
        [
         "12",
         "American Put TvR",
         "TvR (no.poly=5)",
         "5",
         "7.101408466020653"
        ],
        [
         "13",
         "American Put",
         "LS (no.poly=6)",
         "6",
         "7.023859473201431"
        ],
        [
         "14",
         "American Put TvR",
         "TvR (no.poly=6)",
         "6",
         "10.959694712159681"
        ],
        [
         "15",
         "American Put",
         "LS (no.poly=7)",
         "7",
         "6.463007354122938"
        ],
        [
         "16",
         "American Put TvR",
         "TvR (no.poly=7)",
         "7",
         "19.488356081565424"
        ],
        [
         "17",
         "American Put",
         "LS (no.poly=8)",
         "8",
         "6.2972776711976355"
        ],
        [
         "18",
         "American Put TvR",
         "TvR (no.poly=8)",
         "8",
         "21.211837435097426"
        ],
        [
         "19",
         "American Put",
         "LS (no.poly=9)",
         "9",
         "6.00652840228278"
        ],
        [
         "20",
         "American Put TvR",
         "TvR (no.poly=9)",
         "9",
         "18.790447844416523"
        ]
       ],
       "shape": {
        "columns": 4,
        "rows": 21
       }
      },
      "text/html": [
       "<div>\n",
       "<style scoped>\n",
       "    .dataframe tbody tr th:only-of-type {\n",
       "        vertical-align: middle;\n",
       "    }\n",
       "\n",
       "    .dataframe tbody tr th {\n",
       "        vertical-align: top;\n",
       "    }\n",
       "\n",
       "    .dataframe thead th {\n",
       "        text-align: right;\n",
       "    }\n",
       "</style>\n",
       "<table border=\"1\" class=\"dataframe\">\n",
       "  <thead>\n",
       "    <tr style=\"text-align: right;\">\n",
       "      <th></th>\n",
       "      <th>Type</th>\n",
       "      <th>Method</th>\n",
       "      <th>No. of Polynomials</th>\n",
       "      <th>Price</th>\n",
       "    </tr>\n",
       "  </thead>\n",
       "  <tbody>\n",
       "    <tr>\n",
       "      <th>0</th>\n",
       "      <td>European Put</td>\n",
       "      <td>Analytical</td>\n",
       "      <td>None</td>\n",
       "      <td>268.615049</td>\n",
       "    </tr>\n",
       "    <tr>\n",
       "      <th>1</th>\n",
       "      <td>American Put</td>\n",
       "      <td>LS (no.poly=0)</td>\n",
       "      <td>0</td>\n",
       "      <td>7.032711</td>\n",
       "    </tr>\n",
       "    <tr>\n",
       "      <th>2</th>\n",
       "      <td>American Put TvR</td>\n",
       "      <td>TvR (no.poly=0)</td>\n",
       "      <td>0</td>\n",
       "      <td>7.373926</td>\n",
       "    </tr>\n",
       "    <tr>\n",
       "      <th>3</th>\n",
       "      <td>American Put</td>\n",
       "      <td>LS (no.poly=1)</td>\n",
       "      <td>1</td>\n",
       "      <td>7.005352</td>\n",
       "    </tr>\n",
       "    <tr>\n",
       "      <th>4</th>\n",
       "      <td>American Put TvR</td>\n",
       "      <td>TvR (no.poly=1)</td>\n",
       "      <td>1</td>\n",
       "      <td>7.474750</td>\n",
       "    </tr>\n",
       "    <tr>\n",
       "      <th>5</th>\n",
       "      <td>American Put</td>\n",
       "      <td>LS (no.poly=2)</td>\n",
       "      <td>2</td>\n",
       "      <td>7.035565</td>\n",
       "    </tr>\n",
       "    <tr>\n",
       "      <th>6</th>\n",
       "      <td>American Put TvR</td>\n",
       "      <td>TvR (no.poly=2)</td>\n",
       "      <td>2</td>\n",
       "      <td>7.259721</td>\n",
       "    </tr>\n",
       "    <tr>\n",
       "      <th>7</th>\n",
       "      <td>American Put</td>\n",
       "      <td>LS (no.poly=3)</td>\n",
       "      <td>3</td>\n",
       "      <td>7.071566</td>\n",
       "    </tr>\n",
       "    <tr>\n",
       "      <th>8</th>\n",
       "      <td>American Put TvR</td>\n",
       "      <td>TvR (no.poly=3)</td>\n",
       "      <td>3</td>\n",
       "      <td>7.236179</td>\n",
       "    </tr>\n",
       "    <tr>\n",
       "      <th>9</th>\n",
       "      <td>American Put</td>\n",
       "      <td>LS (no.poly=4)</td>\n",
       "      <td>4</td>\n",
       "      <td>7.084458</td>\n",
       "    </tr>\n",
       "    <tr>\n",
       "      <th>10</th>\n",
       "      <td>American Put TvR</td>\n",
       "      <td>TvR (no.poly=4)</td>\n",
       "      <td>4</td>\n",
       "      <td>7.252356</td>\n",
       "    </tr>\n",
       "    <tr>\n",
       "      <th>11</th>\n",
       "      <td>American Put</td>\n",
       "      <td>LS (no.poly=5)</td>\n",
       "      <td>5</td>\n",
       "      <td>7.066024</td>\n",
       "    </tr>\n",
       "    <tr>\n",
       "      <th>12</th>\n",
       "      <td>American Put TvR</td>\n",
       "      <td>TvR (no.poly=5)</td>\n",
       "      <td>5</td>\n",
       "      <td>7.101408</td>\n",
       "    </tr>\n",
       "    <tr>\n",
       "      <th>13</th>\n",
       "      <td>American Put</td>\n",
       "      <td>LS (no.poly=6)</td>\n",
       "      <td>6</td>\n",
       "      <td>7.023859</td>\n",
       "    </tr>\n",
       "    <tr>\n",
       "      <th>14</th>\n",
       "      <td>American Put TvR</td>\n",
       "      <td>TvR (no.poly=6)</td>\n",
       "      <td>6</td>\n",
       "      <td>10.959695</td>\n",
       "    </tr>\n",
       "    <tr>\n",
       "      <th>15</th>\n",
       "      <td>American Put</td>\n",
       "      <td>LS (no.poly=7)</td>\n",
       "      <td>7</td>\n",
       "      <td>6.463007</td>\n",
       "    </tr>\n",
       "    <tr>\n",
       "      <th>16</th>\n",
       "      <td>American Put TvR</td>\n",
       "      <td>TvR (no.poly=7)</td>\n",
       "      <td>7</td>\n",
       "      <td>19.488356</td>\n",
       "    </tr>\n",
       "    <tr>\n",
       "      <th>17</th>\n",
       "      <td>American Put</td>\n",
       "      <td>LS (no.poly=8)</td>\n",
       "      <td>8</td>\n",
       "      <td>6.297278</td>\n",
       "    </tr>\n",
       "    <tr>\n",
       "      <th>18</th>\n",
       "      <td>American Put TvR</td>\n",
       "      <td>TvR (no.poly=8)</td>\n",
       "      <td>8</td>\n",
       "      <td>21.211837</td>\n",
       "    </tr>\n",
       "    <tr>\n",
       "      <th>19</th>\n",
       "      <td>American Put</td>\n",
       "      <td>LS (no.poly=9)</td>\n",
       "      <td>9</td>\n",
       "      <td>6.006528</td>\n",
       "    </tr>\n",
       "    <tr>\n",
       "      <th>20</th>\n",
       "      <td>American Put TvR</td>\n",
       "      <td>TvR (no.poly=9)</td>\n",
       "      <td>9</td>\n",
       "      <td>18.790448</td>\n",
       "    </tr>\n",
       "  </tbody>\n",
       "</table>\n",
       "</div>"
      ],
      "text/plain": [
       "                Type           Method No. of Polynomials       Price\n",
       "0       European Put       Analytical               None  268.615049\n",
       "1       American Put   LS (no.poly=0)                  0    7.032711\n",
       "2   American Put TvR  TvR (no.poly=0)                  0    7.373926\n",
       "3       American Put   LS (no.poly=1)                  1    7.005352\n",
       "4   American Put TvR  TvR (no.poly=1)                  1    7.474750\n",
       "5       American Put   LS (no.poly=2)                  2    7.035565\n",
       "6   American Put TvR  TvR (no.poly=2)                  2    7.259721\n",
       "7       American Put   LS (no.poly=3)                  3    7.071566\n",
       "8   American Put TvR  TvR (no.poly=3)                  3    7.236179\n",
       "9       American Put   LS (no.poly=4)                  4    7.084458\n",
       "10  American Put TvR  TvR (no.poly=4)                  4    7.252356\n",
       "11      American Put   LS (no.poly=5)                  5    7.066024\n",
       "12  American Put TvR  TvR (no.poly=5)                  5    7.101408\n",
       "13      American Put   LS (no.poly=6)                  6    7.023859\n",
       "14  American Put TvR  TvR (no.poly=6)                  6   10.959695\n",
       "15      American Put   LS (no.poly=7)                  7    6.463007\n",
       "16  American Put TvR  TvR (no.poly=7)                  7   19.488356\n",
       "17      American Put   LS (no.poly=8)                  8    6.297278\n",
       "18  American Put TvR  TvR (no.poly=8)                  8   21.211837\n",
       "19      American Put   LS (no.poly=9)                  9    6.006528\n",
       "20  American Put TvR  TvR (no.poly=9)                  9   18.790448"
      ]
     },
     "execution_count": 12,
     "metadata": {},
     "output_type": "execute_result"
    }
   ],
   "source": [
    "results_df = pd.DataFrame(columns=[\"Type\", \"Method\", \"No. of Polynomials\", \"Price\"])\n",
    "\n",
    "# Put\n",
    "european_put = afs.Put(\n",
    "    underlying=underlyings_single,\n",
    "    maturity=pay_dates[-1],\n",
    "    strike=strike,\n",
    "    calendar=calendars[calendar],\n",
    "    nominal=strike,\n",
    ")\n",
    "results_df = pd.concat(\n",
    "    [\n",
    "        results_df,\n",
    "        pd.DataFrame(\n",
    "            {\n",
    "                \"Type\": [\"European Put\"],\n",
    "                \"Method\": [\"Analytical\"],\n",
    "                \"No. of Polynomials\": [None],\n",
    "                \"Price\": [european_put.get_px(date, curve).values[0]],\n",
    "            }\n",
    "        ),\n",
    "    ]\n",
    ")\n",
    "\n",
    "for i in range(10):\n",
    "    method = (\"LS\", i)\n",
    "    engine_am = afs.RegressionMC()\n",
    "    american_put = afs.AmericanVanillaOption(\n",
    "        underlying=underlyings_single,\n",
    "        strike=strike,\n",
    "        kind=\"put\",\n",
    "        calendar=calendars[calendar],\n",
    "        pay_dates=pay_dates,\n",
    "        nominal=1,\n",
    "    )\n",
    "\n",
    "    results_df = pd.concat(\n",
    "        [\n",
    "            results_df,\n",
    "            pd.DataFrame(\n",
    "                {\n",
    "                    \"Type\": [\"American Put\", \"American Put TvR\"],\n",
    "                    \"Method\": [f\"LS (no.poly={i})\", f\"TvR (no.poly={i})\"],\n",
    "                    \"No. of Polynomials\": [i, i],\n",
    "                    \"Price\": [\n",
    "                        engine_am.price(\n",
    "                            american_put,\n",
    "                            date,\n",
    "                            curve,\n",
    "                            no_paths,\n",
    "                            method=method,\n",
    "                            no_calcs=10,\n",
    "                        ).values[0],\n",
    "                        engine_am.price(\n",
    "                            american_put,\n",
    "                            date,\n",
    "                            curve,\n",
    "                            no_paths,\n",
    "                            method=(\"TvR\", method[1]),\n",
    "                            no_calcs=10,\n",
    "                        ).values[0],\n",
    "                    ],\n",
    "                }\n",
    "            ),\n",
    "        ],\n",
    "        ignore_index=True,\n",
    "    )\n",
    "\n",
    "results_df\n"
   ]
  },
  {
   "cell_type": "markdown",
   "metadata": {},
   "source": [
    "The last prices, with a lot of polynomials are completely off. This is due to the presumably high oscillations to fix the data. \n",
    "Now the same to check that the price of the american call has no premium."
   ]
  },
  {
   "cell_type": "code",
   "execution_count": 13,
   "metadata": {},
   "outputs": [
    {
     "data": {
      "application/vnd.microsoft.datawrangler.viewer.v0+json": {
       "columns": [
        {
         "name": "index",
         "rawType": "int64",
         "type": "integer"
        },
        {
         "name": "Type",
         "rawType": "object",
         "type": "string"
        },
        {
         "name": "Method",
         "rawType": "object",
         "type": "string"
        },
        {
         "name": "No. of Polynomials",
         "rawType": "object",
         "type": "string"
        },
        {
         "name": "Price",
         "rawType": "float64",
         "type": "float"
        }
       ],
       "ref": "7604862d-ee92-4468-aa15-6a973bafb2a1",
       "rows": [
        [
         "0",
         "European Call",
         "Analytical",
         null,
         "296.00929309981393"
        ],
        [
         "1",
         "American Call",
         "LS (no.poly=0)",
         "0",
         "7.40453014120038"
        ],
        [
         "2",
         "American Call TvR",
         "TvR (no.poly=0)",
         "0",
         "7.413425411936021"
        ],
        [
         "3",
         "American Call",
         "LS (no.poly=1)",
         "1",
         "7.26732676833859"
        ],
        [
         "4",
         "American Call TvR",
         "TvR (no.poly=1)",
         "1",
         "7.707566722003486"
        ],
        [
         "5",
         "American Call",
         "LS (no.poly=2)",
         "2",
         "7.319353155921692"
        ],
        [
         "6",
         "American Call TvR",
         "TvR (no.poly=2)",
         "2",
         "7.6116468052174495"
        ],
        [
         "7",
         "American Call",
         "LS (no.poly=3)",
         "3",
         "7.311927285901092"
        ],
        [
         "8",
         "American Call TvR",
         "TvR (no.poly=3)",
         "3",
         "7.50924915754091"
        ],
        [
         "9",
         "American Call",
         "LS (no.poly=4)",
         "4",
         "7.360781087251972"
        ],
        [
         "10",
         "American Call TvR",
         "TvR (no.poly=4)",
         "4",
         "7.4826238513944485"
        ],
        [
         "11",
         "American Call",
         "LS (no.poly=5)",
         "5",
         "7.360813498689775"
        ],
        [
         "12",
         "American Call TvR",
         "TvR (no.poly=5)",
         "5",
         "7.553267330167335"
        ],
        [
         "13",
         "American Call",
         "LS (no.poly=6)",
         "6",
         "7.086842792019532"
        ],
        [
         "14",
         "American Call TvR",
         "TvR (no.poly=6)",
         "6",
         "8.56649372155669"
        ],
        [
         "15",
         "American Call",
         "LS (no.poly=7)",
         "7",
         "7.090792294047089"
        ],
        [
         "16",
         "American Call TvR",
         "TvR (no.poly=7)",
         "7",
         "8.492339597449874"
        ],
        [
         "17",
         "American Call",
         "LS (no.poly=8)",
         "8",
         "6.998955072175636"
        ],
        [
         "18",
         "American Call TvR",
         "TvR (no.poly=8)",
         "8",
         "8.710519205734858"
        ],
        [
         "19",
         "American Call",
         "LS (no.poly=9)",
         "9",
         "6.682948027736828"
        ],
        [
         "20",
         "American Call TvR",
         "TvR (no.poly=9)",
         "9",
         "8.242031175722325"
        ]
       ],
       "shape": {
        "columns": 4,
        "rows": 21
       }
      },
      "text/html": [
       "<div>\n",
       "<style scoped>\n",
       "    .dataframe tbody tr th:only-of-type {\n",
       "        vertical-align: middle;\n",
       "    }\n",
       "\n",
       "    .dataframe tbody tr th {\n",
       "        vertical-align: top;\n",
       "    }\n",
       "\n",
       "    .dataframe thead th {\n",
       "        text-align: right;\n",
       "    }\n",
       "</style>\n",
       "<table border=\"1\" class=\"dataframe\">\n",
       "  <thead>\n",
       "    <tr style=\"text-align: right;\">\n",
       "      <th></th>\n",
       "      <th>Type</th>\n",
       "      <th>Method</th>\n",
       "      <th>No. of Polynomials</th>\n",
       "      <th>Price</th>\n",
       "    </tr>\n",
       "  </thead>\n",
       "  <tbody>\n",
       "    <tr>\n",
       "      <th>0</th>\n",
       "      <td>European Call</td>\n",
       "      <td>Analytical</td>\n",
       "      <td>None</td>\n",
       "      <td>296.009293</td>\n",
       "    </tr>\n",
       "    <tr>\n",
       "      <th>1</th>\n",
       "      <td>American Call</td>\n",
       "      <td>LS (no.poly=0)</td>\n",
       "      <td>0</td>\n",
       "      <td>7.404530</td>\n",
       "    </tr>\n",
       "    <tr>\n",
       "      <th>2</th>\n",
       "      <td>American Call TvR</td>\n",
       "      <td>TvR (no.poly=0)</td>\n",
       "      <td>0</td>\n",
       "      <td>7.413425</td>\n",
       "    </tr>\n",
       "    <tr>\n",
       "      <th>3</th>\n",
       "      <td>American Call</td>\n",
       "      <td>LS (no.poly=1)</td>\n",
       "      <td>1</td>\n",
       "      <td>7.267327</td>\n",
       "    </tr>\n",
       "    <tr>\n",
       "      <th>4</th>\n",
       "      <td>American Call TvR</td>\n",
       "      <td>TvR (no.poly=1)</td>\n",
       "      <td>1</td>\n",
       "      <td>7.707567</td>\n",
       "    </tr>\n",
       "    <tr>\n",
       "      <th>5</th>\n",
       "      <td>American Call</td>\n",
       "      <td>LS (no.poly=2)</td>\n",
       "      <td>2</td>\n",
       "      <td>7.319353</td>\n",
       "    </tr>\n",
       "    <tr>\n",
       "      <th>6</th>\n",
       "      <td>American Call TvR</td>\n",
       "      <td>TvR (no.poly=2)</td>\n",
       "      <td>2</td>\n",
       "      <td>7.611647</td>\n",
       "    </tr>\n",
       "    <tr>\n",
       "      <th>7</th>\n",
       "      <td>American Call</td>\n",
       "      <td>LS (no.poly=3)</td>\n",
       "      <td>3</td>\n",
       "      <td>7.311927</td>\n",
       "    </tr>\n",
       "    <tr>\n",
       "      <th>8</th>\n",
       "      <td>American Call TvR</td>\n",
       "      <td>TvR (no.poly=3)</td>\n",
       "      <td>3</td>\n",
       "      <td>7.509249</td>\n",
       "    </tr>\n",
       "    <tr>\n",
       "      <th>9</th>\n",
       "      <td>American Call</td>\n",
       "      <td>LS (no.poly=4)</td>\n",
       "      <td>4</td>\n",
       "      <td>7.360781</td>\n",
       "    </tr>\n",
       "    <tr>\n",
       "      <th>10</th>\n",
       "      <td>American Call TvR</td>\n",
       "      <td>TvR (no.poly=4)</td>\n",
       "      <td>4</td>\n",
       "      <td>7.482624</td>\n",
       "    </tr>\n",
       "    <tr>\n",
       "      <th>11</th>\n",
       "      <td>American Call</td>\n",
       "      <td>LS (no.poly=5)</td>\n",
       "      <td>5</td>\n",
       "      <td>7.360813</td>\n",
       "    </tr>\n",
       "    <tr>\n",
       "      <th>12</th>\n",
       "      <td>American Call TvR</td>\n",
       "      <td>TvR (no.poly=5)</td>\n",
       "      <td>5</td>\n",
       "      <td>7.553267</td>\n",
       "    </tr>\n",
       "    <tr>\n",
       "      <th>13</th>\n",
       "      <td>American Call</td>\n",
       "      <td>LS (no.poly=6)</td>\n",
       "      <td>6</td>\n",
       "      <td>7.086843</td>\n",
       "    </tr>\n",
       "    <tr>\n",
       "      <th>14</th>\n",
       "      <td>American Call TvR</td>\n",
       "      <td>TvR (no.poly=6)</td>\n",
       "      <td>6</td>\n",
       "      <td>8.566494</td>\n",
       "    </tr>\n",
       "    <tr>\n",
       "      <th>15</th>\n",
       "      <td>American Call</td>\n",
       "      <td>LS (no.poly=7)</td>\n",
       "      <td>7</td>\n",
       "      <td>7.090792</td>\n",
       "    </tr>\n",
       "    <tr>\n",
       "      <th>16</th>\n",
       "      <td>American Call TvR</td>\n",
       "      <td>TvR (no.poly=7)</td>\n",
       "      <td>7</td>\n",
       "      <td>8.492340</td>\n",
       "    </tr>\n",
       "    <tr>\n",
       "      <th>17</th>\n",
       "      <td>American Call</td>\n",
       "      <td>LS (no.poly=8)</td>\n",
       "      <td>8</td>\n",
       "      <td>6.998955</td>\n",
       "    </tr>\n",
       "    <tr>\n",
       "      <th>18</th>\n",
       "      <td>American Call TvR</td>\n",
       "      <td>TvR (no.poly=8)</td>\n",
       "      <td>8</td>\n",
       "      <td>8.710519</td>\n",
       "    </tr>\n",
       "    <tr>\n",
       "      <th>19</th>\n",
       "      <td>American Call</td>\n",
       "      <td>LS (no.poly=9)</td>\n",
       "      <td>9</td>\n",
       "      <td>6.682948</td>\n",
       "    </tr>\n",
       "    <tr>\n",
       "      <th>20</th>\n",
       "      <td>American Call TvR</td>\n",
       "      <td>TvR (no.poly=9)</td>\n",
       "      <td>9</td>\n",
       "      <td>8.242031</td>\n",
       "    </tr>\n",
       "  </tbody>\n",
       "</table>\n",
       "</div>"
      ],
      "text/plain": [
       "                 Type           Method No. of Polynomials       Price\n",
       "0       European Call       Analytical               None  296.009293\n",
       "1       American Call   LS (no.poly=0)                  0    7.404530\n",
       "2   American Call TvR  TvR (no.poly=0)                  0    7.413425\n",
       "3       American Call   LS (no.poly=1)                  1    7.267327\n",
       "4   American Call TvR  TvR (no.poly=1)                  1    7.707567\n",
       "5       American Call   LS (no.poly=2)                  2    7.319353\n",
       "6   American Call TvR  TvR (no.poly=2)                  2    7.611647\n",
       "7       American Call   LS (no.poly=3)                  3    7.311927\n",
       "8   American Call TvR  TvR (no.poly=3)                  3    7.509249\n",
       "9       American Call   LS (no.poly=4)                  4    7.360781\n",
       "10  American Call TvR  TvR (no.poly=4)                  4    7.482624\n",
       "11      American Call   LS (no.poly=5)                  5    7.360813\n",
       "12  American Call TvR  TvR (no.poly=5)                  5    7.553267\n",
       "13      American Call   LS (no.poly=6)                  6    7.086843\n",
       "14  American Call TvR  TvR (no.poly=6)                  6    8.566494\n",
       "15      American Call   LS (no.poly=7)                  7    7.090792\n",
       "16  American Call TvR  TvR (no.poly=7)                  7    8.492340\n",
       "17      American Call   LS (no.poly=8)                  8    6.998955\n",
       "18  American Call TvR  TvR (no.poly=8)                  8    8.710519\n",
       "19      American Call   LS (no.poly=9)                  9    6.682948\n",
       "20  American Call TvR  TvR (no.poly=9)                  9    8.242031"
      ]
     },
     "execution_count": 13,
     "metadata": {},
     "output_type": "execute_result"
    }
   ],
   "source": [
    "data[\"Price\"] = 40\n",
    "data[\"Volatility\"] = 0.4\n",
    "data[\"Dividend Rate\"] = 0\n",
    "underlyings[\"SX5E\"].set_data(data)\n",
    "underlyings_single = underlyings[\"SX5E\"]\n",
    "\n",
    "european_call = afs.Call(\n",
    "    underlying=underlyings_single,\n",
    "    maturity=pay_dates[-1],\n",
    "    strike=strike,\n",
    "    calendar=calendars[calendar],\n",
    "    nominal=strike,\n",
    ")\n",
    "results_df = pd.DataFrame(\n",
    "    {\n",
    "        \"Type\": [\"European Call\"],\n",
    "        \"Method\": [\"Analytical\"],\n",
    "        \"No. of Polynomials\": [None],\n",
    "        \"Price\": [european_call.get_px(date, curve).values[0]],\n",
    "    }\n",
    ")\n",
    "\n",
    "for i in range(10):\n",
    "    method = (\"LS\", i)\n",
    "    engine_am = afs.RegressionMC()\n",
    "    american_call = afs.AmericanVanillaOption(\n",
    "        underlying=underlyings_single,\n",
    "        strike=strike,\n",
    "        kind=\"call\",\n",
    "        calendar=calendars[calendar],\n",
    "        pay_dates=pay_dates,\n",
    "        nominal=1,\n",
    "    )\n",
    "\n",
    "    results_df = pd.concat(\n",
    "        [\n",
    "            results_df,\n",
    "            pd.DataFrame(\n",
    "                {\n",
    "                    \"Type\": [\"American Call\", \"American Call TvR\"],\n",
    "                    \"Method\": [f\"LS (no.poly={i})\", f\"TvR (no.poly={i})\"],\n",
    "                    \"No. of Polynomials\": [i, i],\n",
    "                    \"Price\": [\n",
    "                        engine_am.price(\n",
    "                            american_call,\n",
    "                            date,\n",
    "                            curve,\n",
    "                            no_paths,\n",
    "                            method=method,\n",
    "                            no_calcs=10,\n",
    "                        ).values[0],\n",
    "                        engine_am.price(\n",
    "                            american_call,\n",
    "                            date,\n",
    "                            curve,\n",
    "                            no_paths,\n",
    "                            method=(\"TvR\", method[1]),\n",
    "                            no_calcs=10,\n",
    "                        ).values[0],\n",
    "                    ],\n",
    "                }\n",
    "            ),\n",
    "        ],\n",
    "        ignore_index=True,\n",
    "    )\n",
    "\n",
    "# Display the results\n",
    "results_df"
   ]
  },
  {
   "cell_type": "markdown",
   "metadata": {},
   "source": [
    "# Bermudan products"
   ]
  },
  {
   "cell_type": "markdown",
   "metadata": {},
   "source": [
    "First, European product:"
   ]
  },
  {
   "cell_type": "code",
   "execution_count": 14,
   "metadata": {},
   "outputs": [],
   "source": [
    "offset = 10\n",
    "tenor = 1\n",
    "strike = -0.005\n",
    "date_alpha = date + pd.DateOffset(days=offset)\n",
    "date_1 = date_alpha + pd.DateOffset(months=6)\n",
    "date_beta = date_alpha + pd.DateOffset(years=tenor)\n",
    "swap_rate = afs.LognormalSwapRate(\n",
    "    curve,\n",
    "    date_alpha,\n",
    "    date_beta,\n",
    "    6,\n",
    "    6,\n",
    "    legs_calendars=calendars[\"Act360\"],\n",
    "    tenor_length=tenor,\n",
    ")\n",
    "eur_swaption = afs.PayersSwaption(swap_rate, strike, calendars[\"Act360\"], nominal=1)\n"
   ]
  },
  {
   "cell_type": "markdown",
   "metadata": {},
   "source": [
    "American product"
   ]
  },
  {
   "cell_type": "code",
   "execution_count": 15,
   "metadata": {},
   "outputs": [],
   "source": [
    "pay_dates = pd.date_range(start=date_alpha, end=date_beta, freq=pd.DateOffset(months=6))\n",
    "bermudan_swaption = afs.AmericanFromEuropean(\n",
    "    swap_rate, pay_dates, calendars[\"Act360\"], eur_swaption\n",
    ")"
   ]
  },
  {
   "cell_type": "markdown",
   "metadata": {},
   "source": [
    "Interest rate model\n"
   ]
  },
  {
   "cell_type": "code",
   "execution_count": 16,
   "metadata": {},
   "outputs": [],
   "source": [
    "date = pd.to_datetime(\"20200131\")\n",
    "dates = pay_dates.union([date])\n",
    "curve = afs.CRDC(0.05, calendars[\"Act360\"])\n",
    "date_index = pd.DatetimeIndex(dates)\n",
    "g2pp = afs.G2PlusPlusShortRate(curve, calendars[\"Act360\"])\n",
    "g2pp.parameters = g2pp.parameters.reindex(date_index)\n",
    "a = 0.00116\n",
    "b = 0.083\n",
    "sigma = 0.00108\n",
    "eta = 0.00102\n",
    "rho = -0.5\n",
    "g2pp.parameters[\"vol_x\"] = sigma\n",
    "g2pp.parameters[\"reversion_x\"] = a\n",
    "g2pp.parameters[\"vol_y\"] = eta\n",
    "g2pp.parameters[\"reversion_y\"] = b\n",
    "g2pp.parameters[\"correlation\"] = rho"
   ]
  },
  {
   "cell_type": "code",
   "execution_count": 17,
   "metadata": {},
   "outputs": [
    {
     "data": {
      "application/vnd.microsoft.datawrangler.viewer.v0+json": {
       "columns": [
        {
         "name": "index",
         "rawType": "datetime64[ns]",
         "type": "datetime"
        },
        {
         "name": "0",
         "rawType": "float64",
         "type": "float"
        }
       ],
       "ref": "ec93b5fd-a208-4045-8fa6-0c8bacd79ddf",
       "rows": [
        [
         "2020-01-31 00:00:00",
         "0.054358619790683425"
        ]
       ],
       "shape": {
        "columns": 1,
        "rows": 1
       }
      },
      "text/plain": [
       "2020-01-31    0.054359\n",
       "dtype: float64"
      ]
     },
     "execution_count": 17,
     "metadata": {},
     "output_type": "execute_result"
    }
   ],
   "source": [
    "mc_eur = afs.SRDeterministicVolDiffusionMC(g2pp)\n",
    "mc_eur.price(eur_swaption, date, curve, 1000000)"
   ]
  },
  {
   "cell_type": "code",
   "execution_count": 18,
   "metadata": {},
   "outputs": [
    {
     "data": {
      "application/vnd.microsoft.datawrangler.viewer.v0+json": {
       "columns": [
        {
         "name": "index",
         "rawType": "datetime64[ns]",
         "type": "datetime"
        },
        {
         "name": "0",
         "rawType": "float64",
         "type": "float"
        }
       ],
       "ref": "defd7b21-5f43-4d92-88fb-bc3bfe02825d",
       "rows": [
        [
         "2020-01-31 00:00:00",
         "0.16307421955335202"
        ]
       ],
       "shape": {
        "columns": 1,
        "rows": 1
       }
      },
      "text/plain": [
       "2020-01-31    0.163074\n",
       "dtype: float64"
      ]
     },
     "execution_count": 18,
     "metadata": {},
     "output_type": "execute_result"
    }
   ],
   "source": [
    "mc = afs.SRRegressionMC(g2pp)\n",
    "mc.price(bermudan_swaption, date, curve, 1000000, method=(\"LS\", 2))"
   ]
  },
  {
   "cell_type": "code",
   "execution_count": 19,
   "metadata": {},
   "outputs": [
    {
     "data": {
      "text/plain": [
       "<bound method DiffusionMC.compute_disc_payoff_from_simulations of <pricing.mc_engines.SRRegressionMC object at 0x000002E0C8F04890>>"
      ]
     },
     "execution_count": 19,
     "metadata": {},
     "output_type": "execute_result"
    }
   ],
   "source": [
    "mc.compute_disc_payoff_from_simulations"
   ]
  }
 ],
 "metadata": {
  "kernelspec": {
   "display_name": "pypricing",
   "language": "python",
   "name": "python3"
  },
  "language_info": {
   "codemirror_mode": {
    "name": "ipython",
    "version": 3
   },
   "file_extension": ".py",
   "mimetype": "text/x-python",
   "name": "python",
   "nbconvert_exporter": "python",
   "pygments_lexer": "ipython3",
   "version": "3.11.12"
  }
 },
 "nbformat": 4,
 "nbformat_minor": 4
}
