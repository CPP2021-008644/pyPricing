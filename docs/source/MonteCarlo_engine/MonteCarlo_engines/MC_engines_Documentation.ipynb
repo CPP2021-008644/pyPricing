{
 "cells": [
  {
   "attachments": {},
   "cell_type": "markdown",
   "metadata": {},
   "source": [
    "# MonteCarlo engines"
   ]
  },
  {
   "attachments": {},
   "cell_type": "markdown",
   "metadata": {},
   "source": [
    "## DeterministicVolDiffusionMC"
   ]
  },
  {
   "attachments": {},
   "cell_type": "markdown",
   "metadata": {},
   "source": [
    "### generate_draws"
   ]
  },
  {
   "attachments": {},
   "cell_type": "markdown",
   "metadata": {},
   "source": [
    "Generate random draws from a given distribution with a given correlation matrix."
   ]
  },
  {
   "attachments": {},
   "cell_type": "markdown",
   "metadata": {},
   "source": [
    "It returns a 4 dimensional array with the draws for the simulation following the standard conventions for the indexes $i,j,k,l$. The dimensions are `(no_sims, no_obsdates, no_valuation_dates, no_assets)`. Note that `no_assets = corr.shape[-1]`."
   ]
  },
  {
   "attachments": {},
   "cell_type": "markdown",
   "metadata": {},
   "source": [
    "In particular, if draws[i,j,k,l] = $d_{i,j,k,l}$ the result is (should be, **CHECK**)\n",
    "\n",
    "$$\n",
    "    \\left(d_{i,j,k,l}\\right)_{l=0}^\\mathcal{L}\\,,\n",
    "$$\n",
    "is a vector of random variables with covariance matrix `corr`. Note that $\\left(\\vec{d}_{i,j,k}\\right)_{i,j,k}$ are i. i. d., where the components of $\\vec{d}_{i,j,k}$ are $\\left(d_{i,j,k,l}\\right)_{l=0}^\\mathcal{L}$."
   ]
  },
  {
   "attachments": {},
   "cell_type": "markdown",
   "metadata": {},
   "source": [
    " $\\text{Code}$ - math $(\\TeX)$ **translation**"
   ]
  },
  {
   "attachments": {},
   "cell_type": "markdown",
   "metadata": {},
   "source": [
    "* `corr`     $\\rightarrow$    covariance matrix between the assets,\n",
    "* `no_obsdates`    $\\rightarrow$    number of observation dates, \n",
    "* `no_valuation_dates`     $\\rightarrow$   number of valuation dates, \n",
    "* `no_sims`    $\\rightarrow$    number of simulation dates. "
   ]
  },
  {
   "attachments": {},
   "cell_type": "markdown",
   "metadata": {},
   "source": [
    "## compute_intervals"
   ]
  },
  {
   "attachments": {},
   "cell_type": "markdown",
   "metadata": {},
   "source": [
    "The output is defined as\n",
    "$$\n",
    "\\textrm{intervals}[j,k]= \\begin{cases}\\textrm{intervals}[j,k]=DC(t^1_{j-1}, t^1_{j})\\text{ for }j>0 \\text{ (independent of } k\\text{)}\\,,\\\\\n",
    "\\textrm{intervals}[0,k]=DC(t^0_{k}, t^1_{0})\\text{ for }j=0\\,.\n",
    "\\end{cases}\n",
    "$$"
   ]
  },
  {
   "attachments": {},
   "cell_type": "markdown",
   "metadata": {},
   "source": [
    "$DC$ represents the day count convention, see Chapter 1 of BM, and will depend on the calendar used. For simplicity, we can think of it as $DC(t,t')=t'-t$ as a year fraction.\n"
   ]
  },
  {
   "attachments": {},
   "cell_type": "markdown",
   "metadata": {},
   "source": [
    " $\\text{Code}$ - math $(\\TeX)$ **translation**"
   ]
  },
  {
   "attachments": {},
   "cell_type": "markdown",
   "metadata": {},
   "source": [
    "* `start_dates`      $\\rightarrow \\{t^0_k\\}_{k=0}^K$ ,\n",
    "* `step_dates`        $\\rightarrow \\{t^1_j\\}_{j=0}^J$ , \n",
    "* `calendar`  $\\rightarrow$ calendar used for the day count convention. "
   ]
  },
  {
   "attachments": {},
   "cell_type": "markdown",
   "metadata": {},
   "source": []
  },
  {
   "attachments": {},
   "cell_type": "markdown",
   "metadata": {},
   "source": [
    "## StochasticVolDiffusionMC"
   ]
  },
  {
   "attachments": {
    "image.png": {
     "image/png": "[encoded data removed]"
    }
   },
   "cell_type": "markdown",
   "metadata": {},
   "source": [
    "In Pycharm We can use _Compare with Clipboard_\n",
    "\n",
    "![image.png](attachment:image.png)\n",
    "\n",
    "for comparing both methods (generate_paths_for_pricing in DeterministicVolDiffusionMC and in StochasticVolDiffusionMC)"
   ]
  },
  {
   "attachments": {},
   "cell_type": "markdown",
   "metadata": {},
   "source": [
    "### simulate_asset"
   ]
  },
  {
   "attachments": {},
   "cell_type": "markdown",
   "metadata": {},
   "source": [
    " We override this method in order to change:\n",
    " \n",
    " `self.generate_draws` $\\rightarrow$ `assets.generate_draws`\n",
    " \n",
    " since now generate_draws depends on the model (in general we need normals and other distributions).\n",
    "\n",
    " We have also included a new attribute (`self.discretization_method`) so we can choose among the predefined methods."
   ]
  },
  {
   "attachments": {},
   "cell_type": "markdown",
   "metadata": {},
   "source": [
    "### generate_paths_for_pricing \n",
    "    "
   ]
  },
  {
   "attachments": {},
   "cell_type": "markdown",
   "metadata": {},
   "source": [
    "* We override this method in order to introduce more simulation dates (we need to dicretize). In the parent class it is assumed that\n",
    "\n",
    "`obs_dates = simulation_dates`\n",
    "\n",
    "* We also need to change the paths arising from\n",
    "\n",
    "`paths = self.simulate_asset(assets=underlying, discount_curve=discount_curve, start_dates=d, simulation_dates=step_dates,\n",
    "                                        no_sims=no_sims, calendar=calendar, quanto_correction=quanto_correction, forward_measure=True,\n",
    "                                        for_pricing=True)`\n",
    "                                        \n",
    "in such a way that the prices at the simulation dates (not observation dates) are not included.\n",
    "\n",
    "* For the same reason we also need to change `dates_dic` at the end of the method."
   ]
  }
 ],
 "metadata": {
  "kernelspec": {
   "display_name": "base",
   "language": "python",
   "name": "python3"
  },
  "language_info": {
   "codemirror_mode": {
    "name": "ipython",
    "version": 3
   },
   "file_extension": ".py",
   "mimetype": "text/x-python",
   "name": "python",
   "nbconvert_exporter": "python",
   "pygments_lexer": "ipython3",
   "version": "3.9.15"
  },
  "vscode": {
   "interpreter": {
    "hash": "ad2bdc8ecc057115af97d19610ffacc2b4e99fae6737bb82f5d7fb13d2f2c186"
   }
  }
 },
 "nbformat": 4,
 "nbformat_minor": 4
}
